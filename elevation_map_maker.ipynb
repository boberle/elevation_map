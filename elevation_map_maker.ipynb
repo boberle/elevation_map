{
 "cells": [
  {
   "cell_type": "markdown",
   "metadata": {},
   "source": [
    "# How to get an elevation map?"
   ]
  },
  {
   "cell_type": "markdown",
   "metadata": {},
   "source": [
    "An elevation map shows you elevations data with color.  The color doesn't reflect the natural landscape (it is not a satellite map), but all the points at a certain altitude have the same color.  Sometimes, contour lines are added at regular altitude interval to show the steepness: if two lines are close from each other, the slope is steep."
   ]
  },
  {
   "cell_type": "markdown",
   "metadata": {},
   "source": [
    "<table>\n",
    "   <tr>\n",
    "      <td><a href=\"samples/public/saint_helens.jpg\"><img src=\"samples/public/saint_helens_thumb.jpg\" target=\"_blank\" width=\"300px\"></a></td>\n",
    "      <td><a href=\"samples/public/vesuvius.jpg\"><img src=\"samples/public/vesuvius_thumb.jpg\" target=\"_blank\" width=\"300px\"></a></td>\n",
    "   </tr>\n",
    "</table>\n"
   ]
  },
  {
   "cell_type": "markdown",
   "metadata": {},
   "source": [
    "In this notebook, we will use data from NASA to make elevation maps like these:"
   ]
  },
  {
   "cell_type": "markdown",
   "metadata": {},
   "source": [
    "<table>\n",
    "   <tr>\n",
    "      <td><a href=\"samples/public/naples.jpg\"><img src=\"samples/public/naples_thumb.jpg\" target=\"_blank\" width=\"300px\"></a></td>\n",
    "      <td><a href=\"samples/public/peloponese.jpg\"><img src=\"samples/public/peloponese_thumb.jpg\" target=\"_blank\" width=\"300px\"></a></td>\n",
    "   </tr>\n",
    "   <tr>\n",
    "      <td><a href=\"samples/public/reunion.jpg\"><img src=\"samples/public/reunion_thumb.jpg\" target=\"_blank\" width=\"300px\"></a></td>\n",
    "      <td><a href=\"samples/public/tahoe.jpg\"><img src=\"samples/public/tahoe_thumb.jpg\" target=\"_blank\" width=\"300px\"></a></td>\n",
    "   </tr>\n",
    "   <tr>\n",
    "      <td><a href=\"samples/public/crete.jpg\"><img src=\"samples/public/crete_thumb.jpg\" target=\"_blank\" width=\"300px\"></a></td>\n",
    "      <td><a href=\"samples/public/honolulu.jpg\"><img src=\"samples/public/honolulu_thumb.jpg\" target=\"_blank\" width=\"300px\"></a></td>\n",
    "   </tr>\n",
    "   <tr>\n",
    "      <td><a href=\"samples/public/hawaii.jpg\"><img src=\"samples/public/hawaii_thumb.jpg\" target=\"_blank\" width=\"300px\"></a></td>\n",
    "      <td><a href=\"samples/public/martinique.jpg\"><img src=\"samples/public/martinique_thumb.jpg\" target=\"_blank\" width=\"300px\"></a></td>\n",
    "   </tr>\n",
    "</table>\n"
   ]
  },
  {
   "cell_type": "markdown",
   "metadata": {},
   "source": [
    "# How to use this notebook?\n",
    "\n",
    "You just need to read the indications, set some variables (but you can keep the default values if you want) and execute the cells.\n",
    "\n",
    "Some cells will download data from the NASA website, some others will build LandSerf scripts.  To execute these scripts, all you need to do is copy them to the [LandSerf](http://www.staff.city.ac.uk/~jwo/landserf/) interface, and then click on the button `run`. LandSerf is a program that you can freely [download](http://www.staff.city.ac.uk/~jwo/landserf/download/).  It runs on Windows, Linux and Mac.  All the details will be provided below.\n",
    "\n",
    "After running all the cells and excute the LandSerf scripts, you will have a nice relief map, as the one shown above!\n",
    "\n",
    "---\n",
    "\n",
    "A note about the NASA data.  We will use [SRTM data](https://dds.cr.usgs.gov/srtm/version2_1/Documentation/SRTM_Topo.pdf):\n",
    "\n",
    "> The SRTM data sets result from a collaborative effort by the National Aeronautics and Space Administration (NASA) and the National Geospatial-Intelligence Agency (NGA - previously known as the National Imagery and Mapping Agency, or NIMA), as well as the participation of the German and Italian space agencies, to generate a near-global digital elevation model (DEM)\n",
    "\n",
    "---\n",
    "\n",
    "If you want to read the raw data from NASA, and get an image out of them without LandSerf, check out [this other repository of mine: `hgt2pnm`](https://github.com/boberle/hgt2pnm)."
   ]
  },
  {
   "cell_type": "markdown",
   "metadata": {},
   "source": [
    "# Get the tile list"
   ]
  },
  {
   "cell_type": "markdown",
   "metadata": {},
   "source": [
    "The following cells compute the list of tiles you need to download from the NASA website.\n",
    "\n",
    "First, you need to draw a rectangle on a map and find the latitude and longitude of each edge.  You can use the [epsg.io](https://epsg.io/) website to find the values you need.\n",
    "\n",
    "For example, for the island of Corsica, in Southern France, you get:\n",
    "* North = 43N\n",
    "* East = 9E\n",
    "* West = 8E\n",
    "* South = 41N\n",
    "\n",
    "Then convert these into positive or negative integers:\n",
    "* for latitude: N is positive, S is negative (for example 45S would be -45, so Australia is all negative),\n",
    "* for longitude: E is positive, W is negative (so the US is all negative)."
   ]
  },
  {
   "cell_type": "code",
   "execution_count": 1,
   "metadata": {},
   "outputs": [],
   "source": [
    "N = 43\n",
    "E = 9\n",
    "S = 41\n",
    "W = 8"
   ]
  },
  {
   "cell_type": "code",
   "execution_count": 2,
   "metadata": {},
   "outputs": [
    {
     "name": "stdout",
     "output_type": "stream",
     "text": [
      "N41E008.hgt.zip\n",
      "N41E009.hgt.zip\n",
      "N42E008.hgt.zip\n",
      "N42E009.hgt.zip\n",
      "N43E008.hgt.zip\n",
      "N43E009.hgt.zip\n"
     ]
    }
   ],
   "source": [
    "tile_list = set()\n",
    "\n",
    "for lat in range(S, N+1) if S < N else range(N, S+1):\n",
    "    lat = \"%s%02d\" % (\"N\" if lat >= 0 else \"S\", abs(lat))\n",
    "    for long in range(E, W+1) if E < W else range(W, E+1):\n",
    "        long = \"%s%03d\" % (\"E\" if long >= 0 else \"W\", abs(long))\n",
    "        fn = \"%s%s.hgt.zip\" % (lat, long)\n",
    "        print(fn)\n",
    "        tile_list.add(fn)"
   ]
  },
  {
   "cell_type": "markdown",
   "metadata": {},
   "source": [
    "# Download data from the NASA website"
   ]
  },
  {
   "cell_type": "markdown",
   "metadata": {},
   "source": [
    "Now we need to download the data from the NASA website. But there is a catch: there is no tile if the tile is entirely covered by water (like seas, big lakes, etc.).  So we'll have to remove these from the tile list.\n",
    "\n",
    "On the website, data are divided between SRTM1 (1 pixel is 1 meter) and SRTM3 (1 pixel is 3 meters): SRTM1 is just for US.\n",
    "\n",
    "SRTM1 are divided into 7 US regions, each in its own directory, and SRTM3 into 6 continents, each in its own diretory. We can't know in advance in which directory a tile is, so we'll test them all until we find the tile data.\n",
    "\n",
    "First, you need to choose: SRTM1 (US only) or SRTM3 (all the world):"
   ]
  },
  {
   "cell_type": "code",
   "execution_count": 3,
   "metadata": {},
   "outputs": [],
   "source": [
    "TYPE = \"SRTM3\""
   ]
  },
  {
   "cell_type": "markdown",
   "metadata": {},
   "source": [
    "and a destination directory:"
   ]
  },
  {
   "cell_type": "code",
   "execution_count": 4,
   "metadata": {},
   "outputs": [],
   "source": [
    "HGT_DIR = 'hgt_files_srtm3'"
   ]
  },
  {
   "cell_type": "markdown",
   "metadata": {},
   "source": [
    "Note that the script doesn't download a tile if it is already here, in the `HGT_DIR`.\n",
    "\n",
    "If you now the region, you can choose in the following set.  Otherwise, all regions will be tried.  Here are the choices:\n",
    "* for SRTM1: `Region_01, Region_02, Region_03, Region_04, Region_05, Region_06, Region_07`\n",
    "* for SRTM3: `Eurasia, Africa, Islands, North_America, South_America`"
   ]
  },
  {
   "cell_type": "code",
   "execution_count": 5,
   "metadata": {},
   "outputs": [],
   "source": [
    "#REGION = [] # if you don't know\n",
    "REGION = \"Eurasia\""
   ]
  },
  {
   "cell_type": "code",
   "execution_count": 6,
   "metadata": {},
   "outputs": [
    {
     "name": "stdout",
     "output_type": "stream",
     "text": [
      "Looking for 'N42E008.hgt.zip'...\n",
      "Trying 'https://dds.cr.usgs.gov/srtm/version2_1/SRTM3/Eurasia/N42E008.hgt.zip'... OK\n",
      "Saved in 'hgt_files_srtm3/N42E008.hgt'\n",
      "Looking for 'N41E008.hgt.zip'...\n",
      "Trying 'https://dds.cr.usgs.gov/srtm/version2_1/SRTM3/Eurasia/N41E008.hgt.zip'... OK\n",
      "Saved in 'hgt_files_srtm3/N41E008.hgt'\n",
      "Looking for 'N41E009.hgt.zip'...\n",
      "Trying 'https://dds.cr.usgs.gov/srtm/version2_1/SRTM3/Eurasia/N41E009.hgt.zip'... OK\n",
      "Saved in 'hgt_files_srtm3/N41E009.hgt'\n",
      "Looking for 'N43E009.hgt.zip'...\n",
      "Trying 'https://dds.cr.usgs.gov/srtm/version2_1/SRTM3/Eurasia/N43E009.hgt.zip'... OK\n",
      "Saved in 'hgt_files_srtm3/N43E009.hgt'\n",
      "Looking for 'N42E009.hgt.zip'...\n",
      "Trying 'https://dds.cr.usgs.gov/srtm/version2_1/SRTM3/Eurasia/N42E009.hgt.zip'... OK\n",
      "Saved in 'hgt_files_srtm3/N42E009.hgt'\n",
      "Looking for 'N43E008.hgt.zip'...\n",
      "Trying 'https://dds.cr.usgs.gov/srtm/version2_1/SRTM3/Eurasia/N43E008.hgt.zip'... OK\n",
      "Saved in 'hgt_files_srtm3/N43E008.hgt'\n"
     ]
    }
   ],
   "source": [
    "import os\n",
    "import urllib\n",
    "from zipfile import ZipFile\n",
    "import io\n",
    "from io import BytesIO\n",
    "\n",
    "\n",
    "base_url = \"https://dds.cr.usgs.gov/srtm/version2_1/\"\n",
    "regions = dict(\n",
    "    SRTM1=[\"Region_01\", \"Region_02\", \"Region_03\", \"Region_04\", \"Region_05\", \"Region_06\", \"Region_07\"],\n",
    "    SRTM3=[\"Eurasia\", \"Africa\", \"Islands\", \"North_America\", \"South_America\"],\n",
    ")\n",
    "\n",
    "if REGION:\n",
    "    regions[TYPE] = [REGION]\n",
    "\n",
    "found_tiles = set()\n",
    "\n",
    "for tile in tile_list:\n",
    "    \n",
    "    print(\"Looking for '%s'...\" % tile)\n",
    "    \n",
    "    hgt_fn = os.path.splitext(tile)[0]\n",
    "    hgt_fpath = os.path.join(HGT_DIR, hgt_fn)\n",
    "    if os.path.exists(hgt_fpath):\n",
    "        print(\"'%s' already here, skipping...\" % hgt_fpath)\n",
    "        found_tiles.add(hgt_fn)\n",
    "        continue\n",
    "    \n",
    "    found = False\n",
    "    \n",
    "    for region in regions[TYPE]:\n",
    "        url = os.path.join(base_url, TYPE, region, tile)\n",
    "        print(\"Trying '%s'... \" % url, end=\"\")\n",
    "        \n",
    "        \"\"\"\n",
    "        try:\n",
    "            with ZipFile(io.BytesIO(urllib.request.urlopen(url).read())) as zf:\n",
    "                fn = next(iter(zf.namelist()))\n",
    "                fpath = zf.extract(fn, path=HGT_DIR) # HGT_DIR is create automatically\n",
    "            print(\"OK\")\n",
    "            print(\"Saved in '%s'\" % fpath)\n",
    "            found = True\n",
    "            break\n",
    "        except urllib.error.URLError:\n",
    "            print(\"not found\")\n",
    "        \"\"\"\n",
    "        \n",
    "        \n",
    "        # if the previous block doesn't work (download is hanging), try pycurl:\n",
    "        import pycurl\n",
    "        buffer = BytesIO()\n",
    "        header = BytesIO()\n",
    "        c = pycurl.Curl()\n",
    "        c.setopt(c.URL, url)\n",
    "        c.setopt(c.WRITEDATA, buffer)\n",
    "        c.setopt(c.HEADERFUNCTION, header.write)\n",
    "        c.perform()\n",
    "        #input(len(buffer.getvalue()))\n",
    "        #input(buffer.getvalue())\n",
    "        if c.getinfo(pycurl.HTTP_CODE) == 404:\n",
    "            print(\"not found\")\n",
    "        else:\n",
    "            with ZipFile(buffer) as zf:\n",
    "                fn = next(iter(zf.namelist()))\n",
    "                fpath = zf.extract(fn, path=HGT_DIR) # HGT_DIR is create automatically\n",
    "            print(\"OK\")\n",
    "            print(\"Saved in '%s'\" % fpath)\n",
    "            found = True\n",
    "            break\n",
    "        c.close()\n",
    "\n",
    "        \n",
    "    if found:\n",
    "        found_tiles.add(hgt_fn)\n",
    "        "
   ]
  },
  {
   "cell_type": "markdown",
   "metadata": {},
   "source": [
    "NOTE: if some tiles can't be found, that means that there are all sea, and so aren't present in the data (because no elevation on sea!)."
   ]
  },
  {
   "cell_type": "markdown",
   "metadata": {},
   "source": [
    "# Make LandSerf scripts"
   ]
  },
  {
   "cell_type": "markdown",
   "metadata": {},
   "source": [
    "Now, we have to make LandSerf scripts. LandSerf is a software by Jo Wood that allow you to load elevation data and add colors and contours to them.\n",
    "\n",
    "You must download it at http://www.staff.city.ac.uk/~jwo/landserf/download/. It is free for non commercial use.\n",
    "\n",
    "Assuming you have downloaded LandSerf from http://www.staff.city.ac.uk/~jwo/landserf/download/, you just have to run the `landserf.sh` script (if you are on Linux; on other platforms, just see the instructions on the web site, it's well documented):\n",
    "\n",
    "    bash landserf.sh\n",
    "\n",
    "For large files, you may run out of memory, so you can add more memore by editing the `landserf.sh` script.  Edit the line beginning with:\n",
    "\n",
    "    java -Xmx4G...\n",
    "\n",
    "to add as many megabytes or gigabytes you want.  See the java documentation (Google is fine for this search) for the `-Xmx` option.\n",
    "\n",
    "Once you have run the script, a window is displayed. In the `Edit` menu, choose `LandScript Editor` (at the bottom of the menu).  This opens a new window.  Copy the output of the functions below (convert to srf format, combine, find the minimum and maximum values), one at a time, and run each of them with the menu `Run > Run`.\n",
    "\n",
    "If you're in a hurry and want to execute all the scripts at once in the LandScript Editor, run all the following cells without copying anything, then run the cell under \"If you want all the scripts at once\" and copy the output of the last cell: it's just a concatenation of all the intermediate scripts."
   ]
  },
  {
   "cell_type": "markdown",
   "metadata": {},
   "source": [
    "## Convert to `srf` format"
   ]
  },
  {
   "cell_type": "markdown",
   "metadata": {},
   "source": [
    "First, we need to convert the `hgt` files downloaded from NASA to `srf` files used by LandSerf:\n",
    "* open LandSerf (in the LandSerf directory, run `bash landserf.sh`),\n",
    "* go the menu `Edit > LandScript Editor`\n",
    "* execute the following cells and copy the output of the last cell in the LandScript editor,\n",
    "* click on `Run` in the editor window."
   ]
  },
  {
   "cell_type": "code",
   "execution_count": 7,
   "metadata": {},
   "outputs": [],
   "source": [
    "REMOVE_VOIDS = True\n",
    "SRF_DIR = 'srf_files'\n",
    "\n",
    "import os\n",
    "\n",
    "if not os.path.exists(SRF_DIR):\n",
    "    print(\"Creating '%s'\" % SRF_DIR)\n",
    "    os.mkdir(SRF_DIR)"
   ]
  },
  {
   "cell_type": "code",
   "execution_count": 8,
   "metadata": {
    "scrolled": false
   },
   "outputs": [
    {
     "name": "stdout",
     "output_type": "stream",
     "text": [
      "====== COPY THE FOLLOWING LINES IN THE LANDSCRIPT EDITOR ======\n",
      "\n",
      "version(1.0);\n",
      "\n",
      "raster = open(\"/home/bruno/prog/src/elevation_map_maker/hgt_files_srtm3/N43E009.hgt\");\n",
      "raster = removevoids(raster_);\n",
      "save(raster, \"/home/bruno/prog/src/elevation_map_maker/srf_files/N43E009.hgt.srf\");\n",
      "\n",
      "raster = open(\"/home/bruno/prog/src/elevation_map_maker/hgt_files_srtm3/N43E008.hgt\");\n",
      "raster = removevoids(raster_);\n",
      "save(raster, \"/home/bruno/prog/src/elevation_map_maker/srf_files/N43E008.hgt.srf\");\n",
      "\n",
      "raster = open(\"/home/bruno/prog/src/elevation_map_maker/hgt_files_srtm3/N42E009.hgt\");\n",
      "raster = removevoids(raster_);\n",
      "save(raster, \"/home/bruno/prog/src/elevation_map_maker/srf_files/N42E009.hgt.srf\");\n",
      "\n",
      "raster = open(\"/home/bruno/prog/src/elevation_map_maker/hgt_files_srtm3/N42E008.hgt\");\n",
      "raster = removevoids(raster_);\n",
      "save(raster, \"/home/bruno/prog/src/elevation_map_maker/srf_files/N42E008.hgt.srf\");\n",
      "\n",
      "raster = open(\"/home/bruno/prog/src/elevation_map_maker/hgt_files_srtm3/N41E008.hgt\");\n",
      "raster = removevoids(raster_);\n",
      "save(raster, \"/home/bruno/prog/src/elevation_map_maker/srf_files/N41E008.hgt.srf\");\n",
      "\n",
      "raster = open(\"/home/bruno/prog/src/elevation_map_maker/hgt_files_srtm3/N41E009.hgt\");\n",
      "raster = removevoids(raster_);\n",
      "save(raster, \"/home/bruno/prog/src/elevation_map_maker/srf_files/N41E009.hgt.srf\");\n",
      "\n",
      "\n",
      "===============================================================\n"
     ]
    }
   ],
   "source": [
    "import os\n",
    "\n",
    "script1 = \"version(1.0);\\n\\n\"\n",
    "\n",
    "for tile in found_tiles:\n",
    "    \n",
    "    infpath = os.path.join(os.getcwd(), HGT_DIR, tile)\n",
    "    outfpath = os.path.join(os.getcwd(), SRF_DIR, tile) + \".srf\"\n",
    "    script1 += 'raster = open(\"%s\");\\n' % infpath\n",
    "    if REMOVE_VOIDS:\n",
    "        script1 += 'raster = removevoids(raster_);\\n'\n",
    "    script1 += 'save(raster, \"%s\");\\n\\n' % outfpath\n",
    "\n",
    "print(\"====== COPY THE FOLLOWING LINES IN THE LANDSCRIPT EDITOR ======\\n\")\n",
    "print(script1)\n",
    "print(\"===============================================================\")"
   ]
  },
  {
   "cell_type": "markdown",
   "metadata": {},
   "source": [
    "## Combine multiple tiles into one"
   ]
  },
  {
   "cell_type": "markdown",
   "metadata": {},
   "source": [
    "Now, we have different parts of the final map.  It's time to combined them all in one map!\n",
    "\n",
    "Enter a name for the combined file:"
   ]
  },
  {
   "cell_type": "code",
   "execution_count": 9,
   "metadata": {},
   "outputs": [],
   "source": [
    "COMBINED_FILE = 'combined.srf'"
   ]
  },
  {
   "cell_type": "markdown",
   "metadata": {},
   "source": [
    "As before, execute the cell, copy the output and paste it in the LandScript editor!"
   ]
  },
  {
   "cell_type": "code",
   "execution_count": 10,
   "metadata": {},
   "outputs": [
    {
     "name": "stdout",
     "output_type": "stream",
     "text": [
      "====== COPY THE FOLLOWING LINES IN THE LANDSCRIPT EDITOR ======\n",
      "\n",
      "version(1.0);\n",
      "\n",
      "raster = open(\"/home/bruno/prog/src/elevation_map_maker/srf_files/N43E009.hgt.srf\");\n",
      "raster = combine(raster_, open(\"/home/bruno/prog/src/elevation_map_maker/srf_files/N43E008.hgt.srf\"));\n",
      "raster = combine(raster_, open(\"/home/bruno/prog/src/elevation_map_maker/srf_files/N42E009.hgt.srf\"));\n",
      "raster = combine(raster_, open(\"/home/bruno/prog/src/elevation_map_maker/srf_files/N42E008.hgt.srf\"));\n",
      "raster = combine(raster_, open(\"/home/bruno/prog/src/elevation_map_maker/srf_files/N41E008.hgt.srf\"));\n",
      "raster = combine(raster_, open(\"/home/bruno/prog/src/elevation_map_maker/srf_files/N41E009.hgt.srf\"));\n",
      "save(raster, \"/home/bruno/prog/src/elevation_map_maker/srf_files/combined.srf\");\n",
      "\n",
      "\n",
      "===============================================================\n"
     ]
    }
   ],
   "source": [
    "import os\n",
    "\n",
    "script2 = \"version(1.0);\\n\\n\"\n",
    "\n",
    "outfpath = os.path.join(os.getcwd(), SRF_DIR, COMBINED_FILE)\n",
    "\n",
    "for i, tile in enumerate(found_tiles):\n",
    "    \n",
    "    infpath = os.path.join(os.getcwd(), SRF_DIR, tile) + \".srf\"\n",
    "    \n",
    "    #if not os.path.exists(infpath):\n",
    "    #    raise FileNotFoundError(infpath)\n",
    "        \n",
    "    if i == 0:\n",
    "        script2 += 'raster = open(\"%s\");\\n' % infpath\n",
    "    else:\n",
    "        script2 += 'raster = combine(raster_, open(\"%s\"));\\n' % infpath\n",
    "\n",
    "script2 += 'save(raster, \"%s\");\\n\\n' % outfpath\n",
    "\n",
    "print(\"====== COPY THE FOLLOWING LINES IN THE LANDSCRIPT EDITOR ======\\n\")\n",
    "print(script2)\n",
    "print(\"===============================================================\")"
   ]
  },
  {
   "cell_type": "markdown",
   "metadata": {},
   "source": [
    "# Add colors and contours"
   ]
  },
  {
   "cell_type": "markdown",
   "metadata": {},
   "source": [
    "Now you have one more step, the creative one, where you add color and, if you want, contours.  Below you have a function to create a default script, but you can read the LandSerf documentation (on the web site) and change the color, change the scale, add different type of contours, etc.\n",
    "\n",
    "As before, just edit the variable values, execute the cells and copy the output in the LandScript editor."
   ]
  },
  {
   "cell_type": "markdown",
   "metadata": {},
   "source": [
    "First some options:"
   ]
  },
  {
   "cell_type": "code",
   "execution_count": 11,
   "metadata": {},
   "outputs": [],
   "source": [
    "CONTOURS = False # do you want contours?\n",
    "SMOOTH = True # do you want smooth or sharp edge between color?\n",
    "VERTICAL_EXAGERATION = \"3\" # a string (see LandSerf documentation)\n",
    "SUN_ELEVATION = \"45\" # a string, between 0 and 90 (see LandSerf documentation)"
   ]
  },
  {
   "cell_type": "code",
   "execution_count": 12,
   "metadata": {},
   "outputs": [],
   "source": [
    "contours = \"\"\"\n",
    "contours = contour(raster,min_height+(inc/2),inc,1);\n",
    "colouredit(contours,\"rules\",\"0 50 10 0\");\n",
    "vectorstyle(\"linewidth\",0.1);\n",
    "\"\"\" if CONTOURS else 'contours = \"null\";'"
   ]
  },
  {
   "cell_type": "code",
   "execution_count": 13,
   "metadata": {},
   "outputs": [
    {
     "name": "stdout",
     "output_type": "stream",
     "text": [
      "====== COPY THE FOLLOWING LINES IN THE LANDSCRIPT EDITOR ======\n",
      "\n",
      "version(1.0);\n",
      "\n",
      "raster = open(\"/home/bruno/prog/src/elevation_map_maker/srf_files/combined.srf\");\n",
      "\n",
      "# change the projection\n",
      "#raster = reproject(raster_,\"OSGB\",\"true\",90,90);\n",
      "\n",
      "min_height = info(raster,\"min\");\n",
      "max_height = info(raster,\"max\");\n",
      "range = max_height - min_height;\n",
      "# increment\n",
      "inc = range/7;\n",
      "\n",
      "colouredit(raster,\"rules\", \"0\"             & \" 121 177 196 (D),\" &\n",
      "                           \"1\"             & \" 141 166 141 (D),\" &\n",
      "                           min_height       & \" 141 166 141 ,\" &\n",
      "                           min_height+1*inc & \" 172 194 155 ,\" &\n",
      "                           min_height+2*inc & \" 221 219 167 ,\" &        \n",
      "                           min_height+3*inc & \" 254 235 181 ,\" &\n",
      "                           min_height+4*inc & \" 248 212 153 ,\" &\n",
      "                           min_height+5*inc & \" 241 170 109 ,\" &\n",
      "                           min_height+6*inc & \" 227 112  72 \");\n",
      "\n",
      "# for the blue at the sea level (0), you can also use 141 141 166\n",
      "\n",
      "contours = \"null\";\n",
      "\n",
      "edit(raster,\"sunElev\",45);\n",
      "edit(raster,\"vExag\",3);\n",
      "\n",
      "draw(\"/home/bruno/prog/src/elevation_map_maker/srf_files/combined.srf.png\",raster,raster,contours,\"null\",\"relief\");\n",
      "\n",
      "===============================================================\n"
     ]
    }
   ],
   "source": [
    "infpath = os.path.join(os.getcwd(), SRF_DIR, COMBINED_FILE)\n",
    "outfpath = infpath + \".png\"\n",
    "\n",
    "script3 = \"\"\"\n",
    "version(1.0);\n",
    "\n",
    "raster = open(\"{infpath}\");\n",
    "\n",
    "# change the projection\n",
    "#raster = reproject(raster_,\"OSGB\",\"true\",90,90);\n",
    "\n",
    "min_height = info(raster,\"min\");\n",
    "max_height = info(raster,\"max\");\n",
    "range = max_height - min_height;\n",
    "# increment\n",
    "inc = range/7;\n",
    "\n",
    "colouredit(raster,\"rules\", \"0\"             & \" 121 177 196 (D),\" &\n",
    "                           \"1\"             & \" 141 166 141 (D),\" &\n",
    "                           min_height       & \" 141 166 141 {sharp},\" &\n",
    "                           min_height+1*inc & \" 172 194 155 {sharp},\" &\n",
    "                           min_height+2*inc & \" 221 219 167 {sharp},\" &        \n",
    "                           min_height+3*inc & \" 254 235 181 {sharp},\" &\n",
    "                           min_height+4*inc & \" 248 212 153 {sharp},\" &\n",
    "                           min_height+5*inc & \" 241 170 109 {sharp},\" &\n",
    "                           min_height+6*inc & \" 227 112  72 {sharp}\");\n",
    "\n",
    "# for the blue at the sea level (0), you can also use 141 141 166\n",
    "\n",
    "{contours}\n",
    "\n",
    "edit(raster,\"sunElev\",{sun_elev});\n",
    "edit(raster,\"vExag\",{v_exag});\n",
    "\n",
    "draw(\"{outfpath}\",raster,raster,contours,\"null\",\"relief\");\n",
    "\"\"\".format(**dict(\n",
    "    infpath=infpath,\n",
    "    outfpath=outfpath,\n",
    "    contours=contours,\n",
    "    sun_elev=SUN_ELEVATION,\n",
    "    v_exag=VERTICAL_EXAGERATION,\n",
    "    sharp=(\"\" if SMOOTH else \"(D)\"),\n",
    "))\n",
    "\n",
    "print(\"====== COPY THE FOLLOWING LINES IN THE LANDSCRIPT EDITOR ======\")\n",
    "print(script3)\n",
    "print(\"===============================================================\")"
   ]
  },
  {
   "cell_type": "markdown",
   "metadata": {},
   "source": [
    "---"
   ]
  },
  {
   "cell_type": "markdown",
   "metadata": {},
   "source": [
    "<span style=\"font-size: 150%\">This was the last step! Your final image is in the following file:</span>"
   ]
  },
  {
   "cell_type": "code",
   "execution_count": 14,
   "metadata": {},
   "outputs": [
    {
     "data": {
      "text/plain": [
       "'/home/bruno/prog/src/elevation_map_maker/srf_files/combined.srf.png'"
      ]
     },
     "execution_count": 14,
     "metadata": {},
     "output_type": "execute_result"
    }
   ],
   "source": [
    "outfpath"
   ]
  },
  {
   "cell_type": "markdown",
   "metadata": {},
   "source": [
    "You can open it with an external editor, or make a thumbnail and show it here (you will need `pillow`):"
   ]
  },
  {
   "cell_type": "code",
   "execution_count": 15,
   "metadata": {},
   "outputs": [
    {
     "data": {
      "image/png": "[encoded data removed]",
      "text/plain": [
       "<PIL.PngImagePlugin.PngImageFile image mode=RGBA size=266x400 at 0x7F73340410D0>"
      ]
     },
     "metadata": {},
     "output_type": "display_data"
    }
   ],
   "source": [
    "from PIL import Image\n",
    "from IPython.display import display\n",
    "\n",
    "im = Image.open(outfpath)\n",
    "im.thumbnail((400, 400), Image.ANTIALIAS)\n",
    "\n",
    "display(im)"
   ]
  },
  {
   "cell_type": "markdown",
   "metadata": {},
   "source": [
    "Note that all sea area with no elevation are transparent.  This is because NASA doesn't have any file for it."
   ]
  },
  {
   "cell_type": "markdown",
   "metadata": {},
   "source": [
    "---"
   ]
  },
  {
   "cell_type": "markdown",
   "metadata": {},
   "source": [
    "# If you want all the LandSerf scripts at once\n",
    "\n",
    "If you have not yet executed the previous script in LandSerf (but have run the cells) and want to execute them in one pass, just run the following cell and copy/paste the output in the LandScript Editor."
   ]
  },
  {
   "cell_type": "code",
   "execution_count": null,
   "metadata": {
    "scrolled": false
   },
   "outputs": [],
   "source": [
    "print(\"====== COPY THE FOLLOWING LINES IN THE LANDSCRIPT EDITOR ======\\n\")\n",
    "print(script1)\n",
    "print(script2)\n",
    "print(script3)\n",
    "print(\"===============================================================\")"
   ]
  },
  {
   "cell_type": "code",
   "execution_count": null,
   "metadata": {},
   "outputs": [],
   "source": []
  },
  {
   "cell_type": "code",
   "execution_count": null,
   "metadata": {},
   "outputs": [],
   "source": []
  }
 ],
 "metadata": {
  "kernelspec": {
   "display_name": "Python 3",
   "language": "python",
   "name": "python3"
  },
  "language_info": {
   "codemirror_mode": {
    "name": "ipython",
    "version": 3
   },
   "file_extension": ".py",
   "mimetype": "text/x-python",
   "name": "python",
   "nbconvert_exporter": "python",
   "pygments_lexer": "ipython3",
   "version": "3.7.5"
  }
 },
 "nbformat": 4,
 "nbformat_minor": 2
}
